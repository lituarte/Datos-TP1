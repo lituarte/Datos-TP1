{
 "cells": [
  {
   "cell_type": "markdown",
   "metadata": {},
   "source": [
    "## Análisis de meses incluidos en el set de datos"
   ]
  },
  {
   "cell_type": "code",
   "execution_count": 1,
   "metadata": {},
   "outputs": [],
   "source": [
    "import pandas as pd"
   ]
  },
  {
   "cell_type": "code",
   "execution_count": 6,
   "metadata": {},
   "outputs": [],
   "source": [
    "# Cargo las columnas que voy a necesitar para el analisis\n",
    "fechas = pd.read_csv('/home/lautaro/Desktop/events.csv', usecols = lambda col: col in [\"timestamp\"])\n",
    "fechas[\"timestamp\"] = pd.to_datetime(fechas[\"timestamp\"])"
   ]
  },
  {
   "cell_type": "code",
   "execution_count": 9,
   "metadata": {},
   "outputs": [
    {
     "name": "stdout",
     "output_type": "stream",
     "text": [
      "                 timestamp\n",
      "571672 2018-01-01 07:32:26\n"
     ]
    }
   ],
   "source": [
    "# Obtengo la primer y ultima fecha disponibles en el csv\n",
    "print (fechas.nsmallest(1, \"timestamp\"))\n",
    "# La primera fecha es el primero de enero de este año asi que no tenemos que descartar ese mes"
   ]
  },
  {
   "cell_type": "code",
   "execution_count": 10,
   "metadata": {},
   "outputs": [
    {
     "name": "stdout",
     "output_type": "stream",
     "text": [
      "                 timestamp\n",
      "122447 2018-06-15 23:59:31\n"
     ]
    }
   ],
   "source": [
    "print (fechas.nlargest(1, \"timestamp\"))\n",
    "# La ultima fecha es de mitad de junio asi que si hacemos estadisticas por meses debemos descartar junio ya que esta incompleto"
   ]
  }
 ],
 "metadata": {
  "kernelspec": {
   "display_name": "Python 2",
   "language": "python",
   "name": "python2"
  },
  "language_info": {
   "codemirror_mode": {
    "name": "ipython",
    "version": 2
   },
   "file_extension": ".py",
   "mimetype": "text/x-python",
   "name": "python",
   "nbconvert_exporter": "python",
   "pygments_lexer": "ipython2",
   "version": "2.7.15"
  }
 },
 "nbformat": 4,
 "nbformat_minor": 2
}
