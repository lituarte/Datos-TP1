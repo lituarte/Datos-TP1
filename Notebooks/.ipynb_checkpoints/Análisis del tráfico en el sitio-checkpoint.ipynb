{
 "cells": [
  {
   "cell_type": "markdown",
   "metadata": {},
   "source": [
    "## Análisis del tráfico en el sitio"
   ]
  },
  {
   "cell_type": "code",
   "execution_count": null,
   "metadata": {},
   "outputs": [],
   "source": [
    "import pandas as pd\n",
    "\n",
    "# Trafico en el sitio\n",
    "# Cargo solo las columnas que voy a necesitar para calcular el trafico\n",
    "datos = pd.read_csv('events.csv', usecols = lambda col: col in [\"timestamp\", \"event\"])\n",
    "# Obtengo todas las visitas fitrando por la columna de evento\n",
    "visitas = datos.loc[datos[\"event\"] == \"visited site\", [\"timestamp\"]]\n",
    "# Falta obtener los datos por día de la semana y/o por mes"
   ]
  }
 ],
 "metadata": {
  "kernelspec": {
   "display_name": "Python 2",
   "language": "python",
   "name": "python2"
  },
  "language_info": {
   "codemirror_mode": {
    "name": "ipython",
    "version": 2
   },
   "file_extension": ".py",
   "mimetype": "text/x-python",
   "name": "python",
   "nbconvert_exporter": "python",
   "pygments_lexer": "ipython2",
   "version": "2.7.15"
  }
 },
 "nbformat": 4,
 "nbformat_minor": 2
}
