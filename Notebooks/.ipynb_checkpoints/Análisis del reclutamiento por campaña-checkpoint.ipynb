{
 "cells": [
  {
   "cell_type": "markdown",
   "metadata": {},
   "source": [
    "## Análisis del reclutamiento por campaña"
   ]
  },
  {
   "cell_type": "code",
   "execution_count": 36,
   "metadata": {},
   "outputs": [],
   "source": [
    "import pandas as pd"
   ]
  },
  {
   "cell_type": "code",
   "execution_count": 71,
   "metadata": {},
   "outputs": [],
   "source": [
    "# Cargo las columnas que necesito\n",
    "datos = pd.read_csv('/home/lautaro/Desktop/events.csv',\n",
    "                    usecols = lambda col: col in [\"event\", \"timestamp\", \"new_vs_returning\", \"campaign_source\", \"person\"])"
   ]
  },
  {
   "cell_type": "code",
   "execution_count": 72,
   "metadata": {},
   "outputs": [],
   "source": [
    "# Filtro los eventos que me interesan\n",
    "visitas = datos.loc[datos[\"event\"] == \"visited site\",[\"timestamp\", \"new_vs_returning\", \"person\"]]\n",
    "campania = datos.loc[datos[\"event\"] == \"ad campaign hit\",[\"timestamp\", \"campaign_source\", \"person\"]]"
   ]
  },
  {
   "cell_type": "code",
   "execution_count": 73,
   "metadata": {},
   "outputs": [],
   "source": [
    "visitas = visitas.rename(index=str, columns = {\"timestamp\" : \"hora visita\"})\n",
    "campania = campania.rename(index=str, columns = {\"timestamp\" : \"hora campania\"})"
   ]
  },
  {
   "cell_type": "code",
   "execution_count": 74,
   "metadata": {},
   "outputs": [],
   "source": [
    "# Obtengo las visitas de usuarios nuevos\n",
    "visitas = visitas.loc[visitas[\"new_vs_returning\"] == \"New\",[\"hora visita\", \"person\"]]"
   ]
  },
  {
   "cell_type": "code",
   "execution_count": 75,
   "metadata": {},
   "outputs": [],
   "source": [
    "# Me quedo con la primer fecha de acceso a la pagina de cada usuario ya que el resto de las veces seria un \"Returning\"\n",
    "campania = campania.groupby(\"person\", as_index=False).min()"
   ]
  },
  {
   "cell_type": "code",
   "execution_count": 111,
   "metadata": {},
   "outputs": [],
   "source": [
    "# Matcheamos la hora de la primer visita del usuario al sitio con la hora de su primer click en campaña\n",
    "visitas_por_campania = visitas.merge(campania, how=\"inner\", left_on=\"person\", right_on=\"person\")\n",
    "visitas_por_campania = visitas_por_campania.drop(columns=\"person\")"
   ]
  },
  {
   "cell_type": "code",
   "execution_count": 112,
   "metadata": {},
   "outputs": [],
   "source": [
    "# Convierto las columnas de fechas a datetime para poder operar\n",
    "visitas_por_campania[\"hora visita\"] = pd.to_datetime(visitas_por_campania[\"hora visita\"])\n",
    "visitas_por_campania[\"hora campania\"] = pd.to_datetime(visitas_por_campania[\"hora campania\"])"
   ]
  },
  {
   "cell_type": "code",
   "execution_count": 113,
   "metadata": {},
   "outputs": [],
   "source": [
    "# Para contabilizarlo como nuevo debido a la campaña la diferencia de tiempo entre los eventos debe ser poca\n",
    "# Establezco un límite de 5 segundos de diferencia máxima\n",
    "visitas_por_campania = visitas_por_campania.loc[((visitas_por_campania[\"hora visita\"] - visitas_por_campania[\"hora campania\"]) < pd.Timedelta(\"0 days 00:00:05\")) & \n",
    "                                               ((visitas_por_campania[\"hora visita\"] - visitas_por_campania[\"hora campania\"]) > pd.Timedelta(\"-1 days +23:59:55\")), :]"
   ]
  },
  {
   "cell_type": "raw",
   "metadata": {},
   "source": [
    "Ahora que ya estableci que todos los eventos que tengo son de campañas que resultaron en nuevos clientes puedo quedarme unicamente con el nombre de la campaña y una de las columas que marcan la fecha ya que las dos son equivalentes."
   ]
  },
  {
   "cell_type": "code",
   "execution_count": 114,
   "metadata": {},
   "outputs": [],
   "source": [
    "visitas_por_campania = visitas_por_campania.drop(columns=\"hora visita\")\n",
    "visitas_por_campania[\"cantidad\"] = 1"
   ]
  },
  {
   "cell_type": "code",
   "execution_count": 118,
   "metadata": {},
   "outputs": [],
   "source": [
    "# Puedo analizar como aportan las campañas mes a mes\n",
    "campania_por_mes = visitas_por_campania\n",
    "campania_por_mes[\"mes\"] = campania_por_mes[\"hora campania\"].dt.month\n",
    "campania_por_mes = campania_por_mes.drop(columns=\"hora campania\")"
   ]
  },
  {
   "cell_type": "code",
   "execution_count": 120,
   "metadata": {},
   "outputs": [],
   "source": [
    "campania_por_mes = campania_por_mes.groupby([\"campaign_source\", \"mes\"], as_index=False).sum()"
   ]
  },
  {
   "cell_type": "code",
   "execution_count": 124,
   "metadata": {},
   "outputs": [
    {
     "name": "stdout",
     "output_type": "stream",
     "text": [
      "   campaign_source  mes  cantidad\n",
      "0              inf    1         4\n",
      "11     FacebookAds    1        25\n",
      "17  FacebookSocial    1         2\n",
      "26          afilio    1        31\n",
      "32            bing    1         7\n",
      "42         buscape    1        10\n",
      "45          criteo    1        83\n",
      "54          emblue    1         3\n",
      "60          google    1       147\n",
      "82           zanox    1         1\n"
     ]
    }
   ],
   "source": [
    "print(campania_por_mes.loc[campania_por_mes[\"mes\"] == 1,:])"
   ]
  }
 ],
 "metadata": {
  "kernelspec": {
   "display_name": "Python 2",
   "language": "python",
   "name": "python2"
  },
  "language_info": {
   "codemirror_mode": {
    "name": "ipython",
    "version": 2
   },
   "file_extension": ".py",
   "mimetype": "text/x-python",
   "name": "python",
   "nbconvert_exporter": "python",
   "pygments_lexer": "ipython2",
   "version": "2.7.15"
  }
 },
 "nbformat": 4,
 "nbformat_minor": 2
}
