{
 "cells": [
  {
   "cell_type": "code",
   "execution_count": 1,
   "metadata": {},
   "outputs": [],
   "source": [
    "import pandas as pd\n",
    "import numpy as np\n",
    "import seaborn as sns\n",
    "import matplotlib.pyplot as plt\n",
    "import matplotlib.cm\n",
    "import datetime as DT\n",
    "import calendar\n",
    "\n",
    "from matplotlib.collections import PatchCollection\n",
    "from matplotlib.colors import Normalize\n",
    "from matplotlib.patches import Polygon\n",
    "\n",
    "%matplotlib inline"
   ]
  },
  {
   "cell_type": "code",
   "execution_count": 2,
   "metadata": {},
   "outputs": [],
   "source": [
    "df_eventos = pd.read_csv('/home/lautaro/Desktop/events.csv',low_memory=False)"
   ]
  },
  {
   "cell_type": "code",
   "execution_count": 3,
   "metadata": {},
   "outputs": [],
   "source": [
    "# función para convertir fecha a día de la semana.\n",
    "def fecha_a_dia(fecha):\n",
    "    return calendar.day_name[fecha.weekday()]\n",
    "\n",
    "def model_split(model):\n",
    "    return model.str.split(' ', expand=True)\n",
    "\n",
    "def numero_a_mes(numero):\n",
    "    return calendar.month_abbr[numero]\n",
    "\n",
    "df_eventos['timestamp'] = pd.to_datetime(df_eventos['timestamp'], format='%Y-%m-%d')\n",
    "df_eventos['timestamp_diaDelAnio'] = df_eventos[\"timestamp\"].dt.dayofyear\n",
    "df_eventos['timestamp_diaDeLaSemana'] = df_eventos[\"timestamp\"].dt.dayofweek\n",
    "df_eventos['timestamp_diaDeLaSemana_desc'] = df_eventos['timestamp'].map(fecha_a_dia)\n",
    "df_eventos['timestamp_mes'] = df_eventos['timestamp'].dt.month\n",
    "df_eventos[\"timestamp_mes_desc\"] = df_eventos[\"timestamp_mes\"].map(numero_a_mes)\n",
    "df_eventos['model_marca'] =df_eventos.model.str.strip().str.split(' ', expand=True)[0]\n",
    "df_eventos['model_tipo'] =df_eventos.model.str.strip().str.split(' ', expand=True)[1]\n",
    "df_eventos['model_subtipo'] =df_eventos.model.str.strip().str.split(' ', expand=True)[2]\n",
    "df_eventos['total'] = 1 # Para contabilizar eventos"
   ]
  },
  {
   "cell_type": "code",
   "execution_count": 173,
   "metadata": {},
   "outputs": [],
   "source": [
    "visitas = df_eventos.loc[df_eventos[\"event\"] == \"visited site\", [\"timestamp\", \"timestamp_diaDeLaSemana\", \"total\"]]"
   ]
  },
  {
   "cell_type": "code",
   "execution_count": 174,
   "metadata": {},
   "outputs": [],
   "source": [
    "visitas[\"timestamp\"] = pd.to_numeric(visitas[\"timestamp\"].dt.hour)"
   ]
  },
  {
   "cell_type": "code",
   "execution_count": 175,
   "metadata": {},
   "outputs": [],
   "source": [
    "visitas = visitas.groupby([\"timestamp\", \"timestamp_diaDeLaSemana\"], as_index=False).sum()"
   ]
  },
  {
   "cell_type": "code",
   "execution_count": 176,
   "metadata": {},
   "outputs": [
    {
     "data": {
      "text/html": [
       "<div>\n",
       "<style scoped>\n",
       "    .dataframe tbody tr th:only-of-type {\n",
       "        vertical-align: middle;\n",
       "    }\n",
       "\n",
       "    .dataframe tbody tr th {\n",
       "        vertical-align: top;\n",
       "    }\n",
       "\n",
       "    .dataframe thead th {\n",
       "        text-align: right;\n",
       "    }\n",
       "</style>\n",
       "<table border=\"1\" class=\"dataframe\">\n",
       "  <thead>\n",
       "    <tr style=\"text-align: right;\">\n",
       "      <th></th>\n",
       "      <th>timestamp</th>\n",
       "      <th>timestamp_diaDeLaSemana</th>\n",
       "      <th>total</th>\n",
       "    </tr>\n",
       "  </thead>\n",
       "  <tbody>\n",
       "    <tr>\n",
       "      <th>0</th>\n",
       "      <td>0</td>\n",
       "      <td>0</td>\n",
       "      <td>587</td>\n",
       "    </tr>\n",
       "    <tr>\n",
       "      <th>1</th>\n",
       "      <td>0</td>\n",
       "      <td>1</td>\n",
       "      <td>891</td>\n",
       "    </tr>\n",
       "    <tr>\n",
       "      <th>2</th>\n",
       "      <td>0</td>\n",
       "      <td>2</td>\n",
       "      <td>815</td>\n",
       "    </tr>\n",
       "    <tr>\n",
       "      <th>3</th>\n",
       "      <td>0</td>\n",
       "      <td>3</td>\n",
       "      <td>835</td>\n",
       "    </tr>\n",
       "    <tr>\n",
       "      <th>4</th>\n",
       "      <td>0</td>\n",
       "      <td>4</td>\n",
       "      <td>814</td>\n",
       "    </tr>\n",
       "  </tbody>\n",
       "</table>\n",
       "</div>"
      ],
      "text/plain": [
       "   timestamp  timestamp_diaDeLaSemana  total\n",
       "0          0                        0    587\n",
       "1          0                        1    891\n",
       "2          0                        2    815\n",
       "3          0                        3    835\n",
       "4          0                        4    814"
      ]
     },
     "execution_count": 176,
     "metadata": {},
     "output_type": "execute_result"
    }
   ],
   "source": [
    "visitas.head()"
   ]
  },
  {
   "cell_type": "code",
   "execution_count": 177,
   "metadata": {},
   "outputs": [],
   "source": [
    "visitas = visitas.pivot(\"timestamp\", \"timestamp_diaDeLaSemana\", \"total\")"
   ]
  },
  {
   "cell_type": "code",
   "execution_count": 179,
   "metadata": {},
   "outputs": [
    {
     "data": {
      "text/plain": [
       "Text(69,0.5,'Hora')"
      ]
     },
     "execution_count": 179,
     "metadata": {},
     "output_type": "execute_result"
    },
    {
     "data": {
      "image/png": "[encoded data removed]",
      "text/plain": [
       "<Figure size 720x504 with 2 Axes>"
      ]
     },
     "metadata": {},
     "output_type": "display_data"
    }
   ],
   "source": [
    "plt.subplots(figsize=(10,7))\n",
    "grafico = sns.heatmap(visitas, linewidths = .5, cmap=\"jet\")\n",
    "\n",
    "plt.title(\"Visitas segun horario\")\n",
    "plt.xlabel(\"Dia (de lunes a domingo)\")\n",
    "plt.ylabel(\"Hora\")"
   ]
  },
  {
   "cell_type": "markdown",
   "metadata": {},
   "source": [
    "En primer lugar podemos observar que los fines de semana las visitas al sitio disminuyen, por otro lado el mayor pico de visitas al sitio se da los días miércoles entre los rangos de 16 a 17hs y 23 a 24 hs."
   ]
  }
 ],
 "metadata": {
  "kernelspec": {
   "display_name": "Python 2",
   "language": "python",
   "name": "python2"
  },
  "language_info": {
   "codemirror_mode": {
    "name": "ipython",
    "version": 2
   },
   "file_extension": ".py",
   "mimetype": "text/x-python",
   "name": "python",
   "nbconvert_exporter": "python",
   "pygments_lexer": "ipython2",
   "version": "2.7.15"
  }
 },
 "nbformat": 4,
 "nbformat_minor": 2
}
