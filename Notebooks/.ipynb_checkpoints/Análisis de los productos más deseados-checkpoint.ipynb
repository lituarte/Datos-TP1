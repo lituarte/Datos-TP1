{
 "cells": [
  {
   "cell_type": "markdown",
   "metadata": {},
   "source": [
    "## Análisis de los productos más deseados"
   ]
  },
  {
   "cell_type": "code",
   "execution_count": 1,
   "metadata": {},
   "outputs": [],
   "source": [
    "import pandas as pd"
   ]
  },
  {
   "cell_type": "code",
   "execution_count": 7,
   "metadata": {},
   "outputs": [],
   "source": [
    "# Cargo las columnas que necesito\n",
    "datos = pd.read_csv('/home/lautaro/Desktop/events.csv', usecols = lambda col: col in [\"event\", \"person\", \"model\"])"
   ]
  },
  {
   "cell_type": "code",
   "execution_count": 8,
   "metadata": {},
   "outputs": [],
   "source": [
    "views = datos.loc[datos[\"event\"] == \"viewed product\", :]"
   ]
  },
  {
   "cell_type": "code",
   "execution_count": 9,
   "metadata": {},
   "outputs": [
    {
     "name": "stdout",
     "output_type": "stream",
     "text": [
      "              timestamp           event    person                 model\n",
      "2   2018-05-31 23:38:09  viewed product  0004b0a2             iPhone 5s\n",
      "4   2018-05-29 13:29:25  viewed product  0006a21a     Samsung Galaxy S8\n",
      "13  2018-04-09 20:13:14  viewed product  000a54b2  Motorola Moto Z Play\n",
      "22  2018-05-24 11:27:47  viewed product  000a54b2         iPhone 7 Plus\n",
      "26  2018-05-24 11:28:59  viewed product  000a54b2             iPhone 6S\n"
     ]
    }
   ],
   "source": [
    "print(views.head())"
   ]
  }
 ],
 "metadata": {
  "kernelspec": {
   "display_name": "Python 2",
   "language": "python",
   "name": "python2"
  },
  "language_info": {
   "codemirror_mode": {
    "name": "ipython",
    "version": 2
   },
   "file_extension": ".py",
   "mimetype": "text/x-python",
   "name": "python",
   "nbconvert_exporter": "python",
   "pygments_lexer": "ipython2",
   "version": "2.7.15"
  }
 },
 "nbformat": 4,
 "nbformat_minor": 2
}
