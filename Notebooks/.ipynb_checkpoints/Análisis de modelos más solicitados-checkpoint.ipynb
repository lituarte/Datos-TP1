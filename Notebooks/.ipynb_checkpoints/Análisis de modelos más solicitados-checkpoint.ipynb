{
 "cells": [
  {
   "cell_type": "markdown",
   "metadata": {},
   "source": [
    "## Análisis de modelos más solicitados"
   ]
  },
  {
   "cell_type": "code",
   "execution_count": 1,
   "metadata": {},
   "outputs": [],
   "source": [
    "import pandas as pd"
   ]
  },
  {
   "cell_type": "code",
   "execution_count": 2,
   "metadata": {},
   "outputs": [],
   "source": [
    "# Cargo las columnas que necesito\n",
    "datos = pd.read_csv('/home/lautaro/Desktop/events.csv', usecols = lambda col: col in [\"timestamp\", \"event\", \"model\"])\n",
    "# Filtro todas las filas con evento de pedido de stock\n",
    "solicitudes_stock = datos.loc[datos[\"event\"] == \"lead\", [\"timestamp\", \"model\"]]\n",
    "solicitudes_stock[\"timestamp\"] = pd.to_datetime(solicitudes_stock[\"timestamp\"])\n",
    "solicitudes_stock[\"mes\"] = solicitudes_stock[\"timestamp\"].dt.month\n",
    "solicitudes_stock[\"cantidad\"] = 1"
   ]
  },
  {
   "cell_type": "code",
   "execution_count": 3,
   "metadata": {},
   "outputs": [],
   "source": [
    "solicitudes_stock_mes = solicitudes_stock.loc[:,[\"model\", \"mes\", \"cantidad\"]]\n",
    "solicitudes_stock_mes = solicitudes_stock_mes.groupby([\"mes\", \"model\"], as_index=False).sum()"
   ]
  },
  {
   "cell_type": "code",
   "execution_count": 4,
   "metadata": {},
   "outputs": [
    {
     "name": "stdout",
     "output_type": "stream",
     "text": [
      "   mes          model  cantidad\n",
      "0    1      iPhone SE         3\n",
      "1    2  iPhone 7 Plus         4\n",
      "2    3      iPhone SE        16\n",
      "3    4      iPhone SE        20\n",
      "4    5       iPhone X        10\n",
      "5    6       iPhone X         9\n"
     ]
    }
   ],
   "source": [
    "print(solicitudes_stock_mes.groupby([\"mes\"], as_index=False).max())"
   ]
  },
  {
   "cell_type": "markdown",
   "metadata": {},
   "source": [
    "Hay que tener en cuenta que los datos de junio son parciales (por análisis anterior sabemos que solo esta cargada la mitad de junio)"
   ]
  },
  {
   "cell_type": "markdown",
   "metadata": {},
   "source": [
    "Teniendo en cuenta que los últimos datos que tenemos cargados son de junio podemos hacer de cuenta que es el mes en el que estamos actualmente y queremos saber cuantos pedidos de stock tenemos para poder actuar en consecuencia."
   ]
  },
  {
   "cell_type": "code",
   "execution_count": 7,
   "metadata": {},
   "outputs": [
    {
     "name": "stdout",
     "output_type": "stream",
     "text": [
      "                                   model  cantidad\n",
      "182                             iPhone 8         9\n",
      "163                Motorola Moto G5 Plus         9\n",
      "165               Motorola Moto G5S Plus         7\n",
      "162                Motorola Moto G4 Plus         7\n",
      "172              Samsung Galaxy J7 Prime         6\n",
      "171                Samsung Galaxy J7 PRO         5\n",
      "178                            iPhone 6S         5\n",
      "183                        iPhone 8 Plus         4\n",
      "179                       iPhone 6S Plus         4\n",
      "161             Motorola Moto G2 3G Dual         4\n",
      "181                        iPhone 7 Plus         3\n",
      "154                          LG K10 Novo         3\n",
      "177                        iPhone 6 Plus         3\n",
      "170                Samsung Galaxy J5 PRO         2\n",
      "174       Samsung Galaxy Tab E 9.6 Wi-Fi         2\n",
      "166               Motorola Moto Z2 Force         2\n",
      "167                Motorola Moto Z2 Play         2\n",
      "164                    Motorola Moto G5S         2\n",
      "156                                LG K4         2\n",
      "180                             iPhone 7         2\n",
      "176                Samsung Galaxy Y Duos         2\n",
      "175  Samsung Galaxy Tab E 9.6 Wi-Fi + 3G         1\n",
      "173          Samsung Galaxy S5 Mini Duos         1\n",
      "149             Asus Zenfone 3 Max 16 GB         1\n",
      "169           Samsung Galaxy J2 4G Duos          1\n",
      "168                        Quantum GO 3G         1\n",
      "150                         LG  X Screen         1\n",
      "160                  Motorola Moto G1 3G         1\n",
      "159                       Lenovo Vibe K5         1\n",
      "158                           LG X Power         1\n",
      "157                   LG Prime Plus H522         1\n",
      "155                            LG K10 TV         1\n",
      "153                               LG K10         1\n",
      "152                    LG G4 Stylus H630         1\n",
      "151                    LG G3 Stylus D690         1\n",
      "184                             iPhone X         1\n"
     ]
    }
   ],
   "source": [
    "solicitudes_junio = solicitudes_stock_mes.loc[solicitudes_stock_mes[\"mes\"] == 6,[\"model\", \"cantidad\"]].sort_values(by=\"cantidad\", ascending=False)\n",
    "print solicitudes_junio"
   ]
  }
 ],
 "metadata": {
  "kernelspec": {
   "display_name": "Python 2",
   "language": "python",
   "name": "python2"
  },
  "language_info": {
   "codemirror_mode": {
    "name": "ipython",
    "version": 2
   },
   "file_extension": ".py",
   "mimetype": "text/x-python",
   "name": "python",
   "nbconvert_exporter": "python",
   "pygments_lexer": "ipython2",
   "version": "2.7.15"
  }
 },
 "nbformat": 4,
 "nbformat_minor": 2
}
