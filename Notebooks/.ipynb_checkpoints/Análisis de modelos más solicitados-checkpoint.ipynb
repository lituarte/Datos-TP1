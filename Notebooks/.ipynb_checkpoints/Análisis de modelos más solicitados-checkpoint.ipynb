{
 "cells": [
  {
   "cell_type": "markdown",
   "metadata": {},
   "source": [
    "## Análisis de modelos más solicitados"
   ]
  },
  {
   "cell_type": "code",
   "execution_count": 88,
   "metadata": {},
   "outputs": [],
   "source": [
    "import pandas as pd"
   ]
  },
  {
   "cell_type": "code",
   "execution_count": 89,
   "metadata": {},
   "outputs": [],
   "source": [
    "# Cargo las columnas que necesito\n",
    "datos = pd.read_csv('/home/lautaro/Desktop/events.csv', usecols = lambda col: col in [\"timestamp\", \"event\", \"model\"])\n",
    "# Filtro todas las filas con evento de pedido de stock\n",
    "solicitudes_stock = datos.loc[datos[\"event\"] == \"lead\", [\"timestamp\", \"model\"]]\n",
    "solicitudes_stock[\"timestamp\"] = pd.to_datetime(solicitudes_stock[\"timestamp\"])\n",
    "solicitudes_stock[\"mes\"] = solicitudes_stock[\"timestamp\"].dt.month\n",
    "solicitudes_stock[\"cantidad\"] = 1"
   ]
  },
  {
   "cell_type": "code",
   "execution_count": 92,
   "metadata": {},
   "outputs": [],
   "source": [
    "solicitudes_stock_mes = solicitudes_stock.loc[:,[\"model\", \"mes\", \"cantidad\"]]\n",
    "solicitudes_stock_mes = solicitudes_stock_mes.groupby([\"mes\", \"model\"], as_index=False).sum()"
   ]
  },
  {
   "cell_type": "code",
   "execution_count": 95,
   "metadata": {},
   "outputs": [
    {
     "name": "stdout",
     "output_type": "stream",
     "text": [
      "     mes                                model  cantidad\n",
      "0      1                                LG K4         1\n",
      "1      1                Motorola Moto G4 Plus         2\n",
      "2      1                      Motorola Moto Z         1\n",
      "3      1           Samsung Galaxy A9 Pro 2016         2\n",
      "4      1              Samsung Galaxy J5 Prime         1\n",
      "5      1                    Samsung Galaxy J7         2\n",
      "6      1              Samsung Galaxy J7 Prime         2\n",
      "7      1                Samsung Galaxy Note 5         3\n",
      "8      1                Samsung Galaxy Note 8         1\n",
      "9      1             Samsung Galaxy Note Edge         1\n",
      "10     1               Samsung Galaxy S7 Edge         3\n",
      "11     1                    Samsung Galaxy S8         1\n",
      "12     1                            iPhone 4G         1\n",
      "13     1                        iPhone 6 Plus         3\n",
      "14     1                            iPhone 6S         2\n",
      "15     1                       iPhone 6S Plus         2\n",
      "16     1                             iPhone 7         1\n",
      "17     1                        iPhone 7 Plus         2\n",
      "18     1                            iPhone SE         1\n",
      "19     2                             LG G5 SE         1\n",
      "20     2                       Lenovo Vibe K5         1\n",
      "21     2                Motorola Moto G4 Play         1\n",
      "22     2            Motorola Moto G4 Play DTV         1\n",
      "23     2                Motorola Moto G4 Plus         1\n",
      "24     2                 Motorola Moto Z Play         1\n",
      "25     2           Samsung Galaxy A9 Pro 2016         4\n",
      "26     2                    Samsung Galaxy J5         2\n",
      "27     2         Samsung Galaxy J5 2016 Metal         1\n",
      "28     2                Samsung Galaxy Note 8         1\n",
      "29     2               Samsung Galaxy S6 Edge         1\n",
      "..   ...                                  ...       ...\n",
      "155    6                            LG K10 TV         1\n",
      "156    6                                LG K4         2\n",
      "157    6                   LG Prime Plus H522         1\n",
      "158    6                           LG X Power         1\n",
      "159    6                       Lenovo Vibe K5         1\n",
      "160    6                  Motorola Moto G1 3G         1\n",
      "161    6             Motorola Moto G2 3G Dual         4\n",
      "162    6                Motorola Moto G4 Plus         7\n",
      "163    6                Motorola Moto G5 Plus         9\n",
      "164    6                    Motorola Moto G5S         2\n",
      "165    6               Motorola Moto G5S Plus         7\n",
      "166    6               Motorola Moto Z2 Force         2\n",
      "167    6                Motorola Moto Z2 Play         2\n",
      "168    6                        Quantum GO 3G         1\n",
      "169    6           Samsung Galaxy J2 4G Duos          1\n",
      "170    6                Samsung Galaxy J5 PRO         2\n",
      "171    6                Samsung Galaxy J7 PRO         5\n",
      "172    6              Samsung Galaxy J7 Prime         6\n",
      "173    6          Samsung Galaxy S5 Mini Duos         1\n",
      "174    6       Samsung Galaxy Tab E 9.6 Wi-Fi         2\n",
      "175    6  Samsung Galaxy Tab E 9.6 Wi-Fi + 3G         1\n",
      "176    6                Samsung Galaxy Y Duos         2\n",
      "177    6                        iPhone 6 Plus         3\n",
      "178    6                            iPhone 6S         5\n",
      "179    6                       iPhone 6S Plus         4\n",
      "180    6                             iPhone 7         2\n",
      "181    6                        iPhone 7 Plus         3\n",
      "182    6                             iPhone 8         9\n",
      "183    6                        iPhone 8 Plus         4\n",
      "184    6                             iPhone X         1\n",
      "\n",
      "[185 rows x 3 columns]\n"
     ]
    }
   ],
   "source": [
    "print(solicitudes_stock_mes)"
   ]
  }
 ],
 "metadata": {
  "kernelspec": {
   "display_name": "Python 2",
   "language": "python",
   "name": "python2"
  },
  "language_info": {
   "codemirror_mode": {
    "name": "ipython",
    "version": 2
   },
   "file_extension": ".py",
   "mimetype": "text/x-python",
   "name": "python",
   "nbconvert_exporter": "python",
   "pygments_lexer": "ipython2",
   "version": "2.7.15"
  }
 },
 "nbformat": 4,
 "nbformat_minor": 2
}
