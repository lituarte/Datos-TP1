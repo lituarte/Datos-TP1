{
 "cells": [
  {
   "cell_type": "markdown",
   "metadata": {},
   "source": [
    "## Análisis de calidad de productos vendidos"
   ]
  },
  {
   "cell_type": "code",
   "execution_count": 12,
   "metadata": {},
   "outputs": [],
   "source": [
    "import pandas as pd"
   ]
  },
  {
   "cell_type": "code",
   "execution_count": 13,
   "metadata": {},
   "outputs": [],
   "source": [
    "# Cargo las columnas que necesito\n",
    "datos = pd.read_csv('/home/lautaro/Desktop/events.csv', usecols = lambda col: col in [\"timestamp\", \"event\", \"condition\"])\n",
    "# Filtro por evento para mostrar unicamente las ventas\n",
    "ventas = datos.loc[datos[\"event\"] == \"conversion\", [\"timestamp\", \"condition\"]]"
   ]
  },
  {
   "cell_type": "code",
   "execution_count": 14,
   "metadata": {},
   "outputs": [],
   "source": [
    "ventas[\"cantidad\"] = 1"
   ]
  },
  {
   "cell_type": "code",
   "execution_count": 18,
   "metadata": {},
   "outputs": [
    {
     "name": "stdout",
     "output_type": "stream",
     "text": [
      "            condition  cantidad\n",
      "0                 Bom       538\n",
      "1  Bom - Sem Touch ID        22\n",
      "2           Excelente       258\n",
      "3           Muito Bom       352\n",
      "4                Novo         2\n"
     ]
    }
   ],
   "source": [
    "print(ventas.groupby(\"condition\", as_index=False).sum())"
   ]
  },
  {
   "cell_type": "raw",
   "metadata": {},
   "source": [
    "De los datos obtenidos hay 2 que resaltan, la bajísima cantidad de ventas de productos con estado \"Bom - Sem Touch ID\" y \"Novo\". Hay varias explicaciones posibles para los mismos\n",
    "1) El sitio ofrece una baja cantidad de productos en esas condiciones\n",
    "2) Los productos en esas condiciones tienen muy poco éxito\n",
    "3) Los productos con esas condiciones fueron cargados erroneamente (El de \"Bom - Sem Touch ID\" por ejemplo parece ser un subtipo de \"Bom\")"
   ]
  },
  {
   "cell_type": "raw",
   "metadata": {},
   "source": [
    "Para confirmar los puntos 1 y 2 necesitariamos datos que no tenemos por lo tanto vamos a tomar la opción 3 como valida y descartar los casos con estas dos condiciones."
   ]
  },
  {
   "cell_type": "code",
   "execution_count": 22,
   "metadata": {},
   "outputs": [],
   "source": [
    "ventas = ventas.loc[ventas[\"condition\"].isin([\"Bom\", \"Muito Bom\", \"Excelente\"]), :]"
   ]
  },
  {
   "cell_type": "code",
   "execution_count": 23,
   "metadata": {},
   "outputs": [
    {
     "name": "stdout",
     "output_type": "stream",
     "text": [
      "                 timestamp  condition  cantidad\n",
      "220    2018-03-20 17:46:12  Muito Bom         1\n",
      "2282   2018-04-26 22:28:53  Muito Bom         1\n",
      "2547   2018-06-10 14:37:50  Muito Bom         1\n",
      "4245   2018-03-16 13:50:25        Bom         1\n",
      "6985   2018-02-09 22:07:07        Bom         1\n",
      "10005  2018-05-17 02:20:29        Bom         1\n",
      "14236  2018-01-09 16:47:50  Excelente         1\n",
      "15278  2018-05-15 02:31:34  Excelente         1\n",
      "16800  2018-01-23 22:26:36        Bom         1\n",
      "18502  2018-01-10 18:59:05  Muito Bom         1\n",
      "20273  2018-04-30 16:00:50  Excelente         1\n",
      "20275  2018-04-30 17:24:24  Excelente         1\n",
      "20818  2018-05-14 18:47:28        Bom         1\n",
      "20959  2018-04-21 18:54:14  Excelente         1\n",
      "22983  2018-01-25 17:49:31        Bom         1\n"
     ]
    }
   ],
   "source": [
    "print(ventas.head(15))"
   ]
  }
 ],
 "metadata": {
  "kernelspec": {
   "display_name": "Python 2",
   "language": "python",
   "name": "python2"
  },
  "language_info": {
   "codemirror_mode": {
    "name": "ipython",
    "version": 2
   },
   "file_extension": ".py",
   "mimetype": "text/x-python",
   "name": "python",
   "nbconvert_exporter": "python",
   "pygments_lexer": "ipython2",
   "version": "2.7.15"
  }
 },
 "nbformat": 4,
 "nbformat_minor": 2
}
