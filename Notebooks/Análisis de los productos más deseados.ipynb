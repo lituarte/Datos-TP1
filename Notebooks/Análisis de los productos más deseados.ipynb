{
 "cells": [
  {
   "cell_type": "markdown",
   "metadata": {},
   "source": [
    "## Análisis de los productos más deseados"
   ]
  },
  {
   "cell_type": "code",
   "execution_count": 1,
   "metadata": {},
   "outputs": [],
   "source": [
    "import pandas as pd"
   ]
  },
  {
   "cell_type": "code",
   "execution_count": 47,
   "metadata": {},
   "outputs": [],
   "source": [
    "# Cargo las columnas que necesito\n",
    "datos = pd.read_csv('/home/lautaro/Desktop/events.csv', usecols = lambda col: col in [\"event\", \"person\", \"model\"])"
   ]
  },
  {
   "cell_type": "code",
   "execution_count": 48,
   "metadata": {},
   "outputs": [],
   "source": [
    "views = datos.loc[datos[\"event\"] == \"viewed product\", [\"person\", \"model\"]]\n",
    "leads = datos.loc[datos[\"event\"] == \"lead\", [\"person\", \"model\"]]\n",
    "views[\"cantidad_vistos\"] = 1\n",
    "leads[\"comprado\"] = 1"
   ]
  },
  {
   "cell_type": "code",
   "execution_count": 49,
   "metadata": {},
   "outputs": [],
   "source": [
    "views = views.groupby([\"person\",\"model\"], as_index=False).sum()\n",
    "leads = leads.groupby([\"person\", \"model\"], as_index=False).sum()"
   ]
  },
  {
   "cell_type": "code",
   "execution_count": 50,
   "metadata": {},
   "outputs": [],
   "source": [
    "merged = views.merge(leads, left_on=[\"person\",\"model\"], right_on=[\"person\",\"model\"],how=\"outer\")"
   ]
  },
  {
   "cell_type": "code",
   "execution_count": 51,
   "metadata": {},
   "outputs": [],
   "source": [
    "views_sin_leads = merged.loc[merged[\"comprado\"].isnull(),:]"
   ]
  },
  {
   "cell_type": "code",
   "execution_count": 53,
   "metadata": {},
   "outputs": [
    {
     "name": "stdout",
     "output_type": "stream",
     "text": [
      "         person      model  cantidad_vistos  comprado\n",
      "84887  c501ff3a  iPhone 5c            812.0       NaN\n",
      "93934  d7e60792   iPhone 7            532.0       NaN\n",
      "59054  88cabe99  iPhone 6S            495.0       NaN\n",
      "24892  3b5a5833  iPhone SE            466.0       NaN\n",
      "44065  68659ed1   iPhone 7            432.0       NaN\n",
      "22707  35cf2bcd   iPhone 6            342.0       NaN\n",
      "55518  7ffacfa4  iPhone 5s            311.0       NaN\n",
      "46083  6d2fe2db  iPhone 5s            304.0       NaN\n",
      "55360  7fa9d215  iPhone 6S            304.0       NaN\n",
      "63198  9250d410  iPhone 6S            286.0       NaN\n"
     ]
    }
   ],
   "source": [
    "print(views_sin_leads.nlargest(10, \"cantidad_vistos\"))"
   ]
  },
  {
   "cell_type": "raw",
   "metadata": {},
   "source": [
    "Hasta acá tenemos la lista de los usuarios que más han visto un modelo de celular sin comprarlo, estos datos nos pueden servir para ofrecerles a esos usuarios en particular algún tipo de descuento exclusivo para motivarlos a concretar esa compra del producto que tanto quieren."
   ]
  }
 ],
 "metadata": {
  "kernelspec": {
   "display_name": "Python 2",
   "language": "python",
   "name": "python2"
  },
  "language_info": {
   "codemirror_mode": {
    "name": "ipython",
    "version": 2
   },
   "file_extension": ".py",
   "mimetype": "text/x-python",
   "name": "python",
   "nbconvert_exporter": "python",
   "pygments_lexer": "ipython2",
   "version": "2.7.15"
  }
 },
 "nbformat": 4,
 "nbformat_minor": 2
}
