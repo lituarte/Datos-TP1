{
 "cells": [
  {
   "cell_type": "markdown",
   "metadata": {},
   "source": [
    "## Análisis de los productos más deseados"
   ]
  },
  {
   "cell_type": "code",
   "execution_count": 51,
   "metadata": {},
   "outputs": [],
   "source": [
    "import pandas as pd\n",
    "import matplotlib.pyplot as plt\n",
    "% matplotlib inline"
   ]
  },
  {
   "cell_type": "code",
   "execution_count": 52,
   "metadata": {},
   "outputs": [],
   "source": [
    "# Cargo las columnas que necesito\n",
    "datos = pd.read_csv('/home/lautaro/Desktop/events.csv', usecols = lambda col: col in [\"event\", \"person\", \"model\"])"
   ]
  },
  {
   "cell_type": "code",
   "execution_count": 53,
   "metadata": {},
   "outputs": [],
   "source": [
    "views = datos.loc[datos[\"event\"] == \"viewed product\", [\"person\", \"model\"]]\n",
    "compras = datos.loc[datos[\"event\"] == \"conversion\", [\"person\", \"model\"]]\n",
    "views[\"cantidad_vistos\"] = 1\n",
    "compras[\"comprado\"] = 1"
   ]
  },
  {
   "cell_type": "code",
   "execution_count": 54,
   "metadata": {},
   "outputs": [],
   "source": [
    "views = views.groupby([\"person\",\"model\"], as_index=False).sum()\n",
    "compras = compras.groupby([\"person\", \"model\"], as_index=False).sum()"
   ]
  },
  {
   "cell_type": "code",
   "execution_count": 55,
   "metadata": {},
   "outputs": [],
   "source": [
    "merged = views.merge(compras, left_on=[\"person\",\"model\"], right_on=[\"person\",\"model\"],how=\"outer\")"
   ]
  },
  {
   "cell_type": "code",
   "execution_count": 56,
   "metadata": {},
   "outputs": [],
   "source": [
    "views_sin_compras = merged.loc[merged[\"comprado\"].isnull(),[\"person\",\"model\",\"cantidad_vistos\"]]"
   ]
  },
  {
   "cell_type": "code",
   "execution_count": 57,
   "metadata": {},
   "outputs": [
    {
     "name": "stdout",
     "output_type": "stream",
     "text": [
      "         person      model  cantidad_vistos\n",
      "84887  c501ff3a  iPhone 5c            812.0\n",
      "93934  d7e60792   iPhone 7            532.0\n",
      "59054  88cabe99  iPhone 6S            495.0\n",
      "24892  3b5a5833  iPhone SE            466.0\n",
      "24886  3b5a5833   iPhone 6            397.0\n",
      "22707  35cf2bcd   iPhone 6            342.0\n",
      "55518  7ffacfa4  iPhone 5s            311.0\n",
      "46083  6d2fe2db  iPhone 5s            304.0\n",
      "55360  7fa9d215  iPhone 6S            304.0\n",
      "63198  9250d410  iPhone 6S            286.0\n"
     ]
    }
   ],
   "source": [
    "print(views_sin_compras.nlargest(10, \"cantidad_vistos\"))"
   ]
  },
  {
   "cell_type": "markdown",
   "metadata": {},
   "source": [
    "Hasta acá tenemos la lista de los usuarios que más han visto un modelo de celular sin comprarlo, estos datos nos pueden servir para ofrecerles a esos usuarios en particular algún tipo de descuento exclusivo para motivarlos a concretar esa compra del producto que tanto quieren."
   ]
  },
  {
   "cell_type": "markdown",
   "metadata": {},
   "source": [
    "También podemos obtener qué modelos de celular son los más deseados entre nuestros usuarios:"
   ]
  },
  {
   "cell_type": "code",
   "execution_count": 58,
   "metadata": {},
   "outputs": [],
   "source": [
    "views_sin_compras = views_sin_compras.drop(columns={\"person\"})"
   ]
  },
  {
   "cell_type": "code",
   "execution_count": 59,
   "metadata": {},
   "outputs": [],
   "source": [
    "views_sin_compras = views_sin_compras.groupby(\"model\", as_index=False).mean().sort_values(by=\"cantidad_vistos\", ascending=False)"
   ]
  },
  {
   "cell_type": "code",
   "execution_count": 66,
   "metadata": {},
   "outputs": [
    {
     "name": "stdout",
     "output_type": "stream",
     "text": [
      "                            model  cantidad_vistos\n",
      "132        Samsung Galaxy S7 Edge         8.401549\n",
      "189                     iPhone 5s         7.777821\n",
      "188                     iPhone 5c         7.605176\n",
      "190                      iPhone 6         7.509240\n",
      "192                     iPhone 6S         7.309422\n",
      "194                      iPhone 7         6.877832\n",
      "198                     iPhone SE         6.735622\n",
      "46          Motorola Moto G4 Plus         6.569963\n",
      "195                 iPhone 7 Plus         6.193470\n",
      "128        Samsung Galaxy S6 Edge         5.430294\n",
      "193                iPhone 6S Plus         5.240562\n",
      "131             Samsung Galaxy S7         5.203202\n",
      "191                 iPhone 6 Plus         5.200521\n",
      "133             Samsung Galaxy S8         5.101529\n",
      "187                      iPhone 5         4.937856\n",
      "134        Samsung Galaxy S8 Plus         4.932118\n",
      "72         Samsung Galaxy A5 2017         4.872762\n",
      "53   Motorola Moto X Play 4G Dual         4.736682\n",
      "56               Motorola Moto X2         4.650143\n",
      "186                     iPhone 4S         4.587349\n"
     ]
    }
   ],
   "source": [
    "print views_sin_compras.head(20)"
   ]
  },
  {
   "cell_type": "markdown",
   "metadata": {},
   "source": [
    "Lo que nos dice esta tabla es la cantidad de veces que entra a ver un producto un usuario que no lo compró, en inglés a estas personas se las llama \"window shoppers\". Es muy probable que esta gente este a la espera del precio adecuado y Trocafone sea uno de los tantos lugares que visita para encontrar ese precio."
   ]
  },
  {
   "cell_type": "code",
   "execution_count": 77,
   "metadata": {},
   "outputs": [
    {
     "data": {
      "text/plain": [
       "Text(0,0.5,'Modelo')"
      ]
     },
     "execution_count": 77,
     "metadata": {},
     "output_type": "execute_result"
    },
    {
     "data": {
      "image/png": "[encoded data removed]",
      "text/plain": [
       "<Figure size 504x504 with 1 Axes>"
      ]
     },
     "metadata": {},
     "output_type": "display_data"
    }
   ],
   "source": [
    "views_sin_compras.head(20).plot(kind=\"barh\", figsize=(7,7), legend=False, x=\"model\")\n",
    "\n",
    "plt.title(\"Visitas promedio de window shoppers\")\n",
    "plt.xlabel(\"Cantidad de visitas\")\n",
    "plt.ylabel(\"Modelo\")"
   ]
  }
 ],
 "metadata": {
  "kernelspec": {
   "display_name": "Python 2",
   "language": "python",
   "name": "python2"
  },
  "language_info": {
   "codemirror_mode": {
    "name": "ipython",
    "version": 2
   },
   "file_extension": ".py",
   "mimetype": "text/x-python",
   "name": "python",
   "nbconvert_exporter": "python",
   "pygments_lexer": "ipython2",
   "version": "2.7.15"
  }
 },
 "nbformat": 4,
 "nbformat_minor": 2
}
