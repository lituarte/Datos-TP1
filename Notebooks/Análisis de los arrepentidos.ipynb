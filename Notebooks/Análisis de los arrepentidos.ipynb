{
 "cells": [
  {
   "cell_type": "markdown",
   "metadata": {},
   "source": [
    "## Análisis de los arrepentidos"
   ]
  },
  {
   "cell_type": "code",
   "execution_count": 2,
   "metadata": {},
   "outputs": [],
   "source": [
    "import pandas as pd"
   ]
  },
  {
   "cell_type": "code",
   "execution_count": 3,
   "metadata": {},
   "outputs": [],
   "source": [
    "# Cargo las columnas que necesito\n",
    "datos = pd.read_csv('/home/lautaro/Desktop/events.csv',\n",
    "                    usecols = lambda col: col in [\"event\", \"timestamp\", \"person\",\"sku\",\"model\"], low_memory=False)"
   ]
  },
  {
   "cell_type": "code",
   "execution_count": 4,
   "metadata": {},
   "outputs": [],
   "source": [
    "checkouts = datos.loc[datos[\"event\"] == \"checkout\",[\"timestamp\",\"person\",\"sku\",\"model\"]]\n",
    "ventas = datos.loc[datos[\"event\"] == \"conversion\",[\"timestamp\", \"person\", \"sku\", \"model\"]]"
   ]
  },
  {
   "cell_type": "code",
   "execution_count": 5,
   "metadata": {},
   "outputs": [],
   "source": [
    "checkouts = checkouts.rename(index=str, columns={\"timestamp\" : \"fecha_checkout\"})\n",
    "ventas = ventas.rename(index=str, columns={\"timestamp\" : \"fecha_venta\"})"
   ]
  },
  {
   "cell_type": "code",
   "execution_count": 6,
   "metadata": {},
   "outputs": [],
   "source": [
    "# Me quedo con un unico checkout por combinacion de persona y producto\n",
    "checkouts = checkouts.groupby([\"person\", \"sku\"], as_index=False).head(1)"
   ]
  },
  {
   "cell_type": "code",
   "execution_count": 7,
   "metadata": {},
   "outputs": [],
   "source": [
    "merged = checkouts.merge(ventas, how=\"left\", left_on=[\"person\", \"sku\", \"model\"], right_on=[\"person\", \"sku\", \"model\"])"
   ]
  },
  {
   "cell_type": "code",
   "execution_count": 8,
   "metadata": {},
   "outputs": [],
   "source": [
    "# Obtengo los checkouts sin ventas\n",
    "checkouts_sin_ventas = merged.loc[merged[\"fecha_venta\"].isnull(),[\"sku\", \"model\"]]\n",
    "checkouts_sin_ventas[\"cantidad\"] = 1"
   ]
  },
  {
   "cell_type": "markdown",
   "metadata": {},
   "source": [
    "Ahora puedo rankear los productos que más checkouts tuvieron sin haber sido vendidos"
   ]
  },
  {
   "cell_type": "code",
   "execution_count": 9,
   "metadata": {},
   "outputs": [],
   "source": [
    "checkouts_sin_ventas = checkouts_sin_ventas.groupby([\"sku\", \"model\"], as_index=False).sum()"
   ]
  },
  {
   "cell_type": "code",
   "execution_count": 10,
   "metadata": {},
   "outputs": [
    {
     "name": "stdout",
     "output_type": "stream",
     "text": [
      "          sku                   model  cantidad\n",
      "1301   6371.0       Samsung Galaxy J5       411\n",
      "1295   6357.0       Samsung Galaxy J5       405\n",
      "896    2831.0                iPhone 6       310\n",
      "1316   6413.0       Samsung Galaxy J7       275\n",
      "894    2830.0                iPhone 6       246\n",
      "1264   6023.0               iPhone 5s       230\n",
      "1740   8443.0       Samsung Galaxy S7       229\n",
      "890    2829.0                iPhone 6       219\n",
      "445   12758.0       Samsung Galaxy S8       216\n",
      "1085   3371.0  Samsung Galaxy S6 Flat       206\n"
     ]
    }
   ],
   "source": [
    "print(checkouts_sin_ventas.nlargest(10, \"cantidad\"))"
   ]
  },
  {
   "cell_type": "markdown",
   "metadata": {},
   "source": [
    "Esta tabla me muestra los productos que más arrepentidos tienen, pero también se puede agrupar por modelo."
   ]
  },
  {
   "cell_type": "code",
   "execution_count": 11,
   "metadata": {},
   "outputs": [],
   "source": [
    "checkouts_sin_ventas = checkouts_sin_ventas.drop(columns=\"sku\")\n",
    "checkouts_sin_ventas = checkouts_sin_ventas.groupby(\"model\", as_index=False).sum()"
   ]
  },
  {
   "cell_type": "code",
   "execution_count": 13,
   "metadata": {},
   "outputs": [
    {
     "name": "stdout",
     "output_type": "stream",
     "text": [
      "                        model  cantidad\n",
      "171                  iPhone 6      2981\n",
      "170                 iPhone 5s      2368\n",
      "173                 iPhone 6S      2130\n",
      "85          Samsung Galaxy J5      1769\n",
      "120         Samsung Galaxy S7      1181\n",
      "175                  iPhone 7      1143\n",
      "122         Samsung Galaxy S8      1042\n",
      "176             iPhone 7 Plus       869\n",
      "121    Samsung Galaxy S7 Edge       785\n",
      "119    Samsung Galaxy S6 Flat       782\n",
      "93    Samsung Galaxy J7 Prime       775\n",
      "89          Samsung Galaxy J7       702\n",
      "179                 iPhone SE       590\n",
      "172             iPhone 6 Plus       576\n",
      "174            iPhone 6S Plus       526\n",
      "117    Samsung Galaxy S6 Edge       518\n",
      "169                 iPhone 5c       490\n",
      "123    Samsung Galaxy S8 Plus       469\n",
      "34   Motorola Moto G2 3G Dual       451\n",
      "41      Motorola Moto G4 Plus       440\n"
     ]
    }
   ],
   "source": [
    "print (checkouts_sin_ventas.nlargest(20, \"cantidad\"))"
   ]
  },
  {
   "cell_type": "code",
   "execution_count": 16,
   "metadata": {},
   "outputs": [
    {
     "data": {
      "text/plain": [
       "<matplotlib.axes._subplots.AxesSubplot at 0x7fd3ccbafad0>"
      ]
     },
     "execution_count": 16,
     "metadata": {},
     "output_type": "execute_result"
    },
    {
     "data": {
      "image/png": "[encoded data removed]",
      "text/plain": [
       "<Figure size 504x504 with 1 Axes>"
      ]
     },
     "metadata": {},
     "output_type": "display_data"
    }
   ],
   "source": [
    "checkouts_sin_ventas.nlargest(20,\"cantidad\").plot(kind=\"bar\", x=\"model\", y=\"cantidad\", figsize=(7,7), legend=False)"
   ]
  },
  {
   "cell_type": "markdown",
   "metadata": {},
   "source": [
    "A partir de esta tabla se puede tomar medidas para motivar al usuario al terminar esa compra, las estrategias van desde las económicas como ofrecer descuentos o garantías extendidas hasta algo más técnico como un cambio en la UI."
   ]
  }
 ],
 "metadata": {
  "kernelspec": {
   "display_name": "Python 2",
   "language": "python",
   "name": "python2"
  },
  "language_info": {
   "codemirror_mode": {
    "name": "ipython",
    "version": 2
   },
   "file_extension": ".py",
   "mimetype": "text/x-python",
   "name": "python",
   "nbconvert_exporter": "python",
   "pygments_lexer": "ipython2",
   "version": "2.7.15"
  }
 },
 "nbformat": 4,
 "nbformat_minor": 2
}
