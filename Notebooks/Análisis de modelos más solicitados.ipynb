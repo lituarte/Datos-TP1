{
 "cells": [
  {
   "cell_type": "markdown",
   "metadata": {},
   "source": [
    "## Análisis de modelos más solicitados"
   ]
  },
  {
   "cell_type": "code",
   "execution_count": null,
   "metadata": {},
   "outputs": [],
   "source": [
    "import pandas as pd\n",
    "\n",
    "# Modelos mas solicitados\n",
    "\n",
    "# Cargo las columnas que necesito\n",
    "datos = pd.read_csv('events.csv', usecols = lambda col: col in [\"timestamp\", \"event\", \"model\"])\n",
    "# Filtro todas las filas con evento de pedido de stock\n",
    "solicitudes_stock = datos.loc[datos[\"event\"] == \"lead\", [\"timestamp\", \"model\"]]\n",
    "# Me falta ordenar los datos por dia/mes/semana (tener en cuenta que hay que filtrar semanas/meses incompletos)"
   ]
  }
 ],
 "metadata": {
  "kernelspec": {
   "display_name": "Python 2",
   "language": "python",
   "name": "python2"
  },
  "language_info": {
   "codemirror_mode": {
    "name": "ipython",
    "version": 2
   },
   "file_extension": ".py",
   "mimetype": "text/x-python",
   "name": "python",
   "nbconvert_exporter": "python",
   "pygments_lexer": "ipython2",
   "version": "2.7.15"
  }
 },
 "nbformat": 4,
 "nbformat_minor": 2
}
