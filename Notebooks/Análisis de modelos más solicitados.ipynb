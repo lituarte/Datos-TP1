{
 "cells": [
  {
   "cell_type": "markdown",
   "metadata": {},
   "source": [
    "## Análisis de modelos más solicitados"
   ]
  },
  {
   "cell_type": "code",
   "execution_count": 7,
   "metadata": {},
   "outputs": [],
   "source": [
    "import pandas as pd"
   ]
  },
  {
   "cell_type": "code",
   "execution_count": 8,
   "metadata": {},
   "outputs": [],
   "source": [
    "# Cargo las columnas que necesito\n",
    "datos = pd.read_csv('/home/lautaro/Desktop/events.csv', usecols = lambda col: col in [\"timestamp\", \"event\", \"model\"])\n",
    "# Filtro todas las filas con evento de pedido de stock\n",
    "solicitudes_stock = datos.loc[datos[\"event\"] == \"lead\", [\"timestamp\", \"model\"]]\n",
    "solicitudes_stock[\"timestamp\"] = pd.to_datetime(solicitudes_stock[\"timestamp\"])\n",
    "solicitudes_stock[\"mes\"] = solicitudes_stock[\"timestamp\"].dt.month\n",
    "solicitudes_stock[\"cantidad\"] = 1"
   ]
  },
  {
   "cell_type": "code",
   "execution_count": 30,
   "metadata": {},
   "outputs": [],
   "source": [
    "solicitudes_stock_mes = solicitudes_stock.loc[:,[\"model\", \"mes\", \"cantidad\"]]\n",
    "solicitudes_stock_mes = solicitudes_stock_mes.groupby([\"mes\", \"model\"], as_index=False).sum()\n",
    "solicitudes_stock_mes = solicitudes_stock_mes.groupby([\"mes\"], as_index=False).max()"
   ]
  },
  {
   "cell_type": "code",
   "execution_count": 31,
   "metadata": {},
   "outputs": [
    {
     "name": "stdout",
     "output_type": "stream",
     "text": [
      "   mes          model  cantidad\n",
      "0    1      iPhone SE         3\n",
      "1    2  iPhone 7 Plus         4\n",
      "2    3      iPhone SE        16\n",
      "3    4      iPhone SE        20\n",
      "4    5       iPhone X        10\n",
      "5    6       iPhone X         9\n"
     ]
    }
   ],
   "source": [
    "print(solicitudes_stock_mes)"
   ]
  },
  {
   "cell_type": "raw",
   "metadata": {},
   "source": [
    "Hay que tener en cuenta que los datos de junio son parciales (por análisis anterior sabemos que solo esta cargada la mitad de junio)"
   ]
  }
 ],
 "metadata": {
  "kernelspec": {
   "display_name": "Python 2",
   "language": "python",
   "name": "python2"
  },
  "language_info": {
   "codemirror_mode": {
    "name": "ipython",
    "version": 2
   },
   "file_extension": ".py",
   "mimetype": "text/x-python",
   "name": "python",
   "nbconvert_exporter": "python",
   "pygments_lexer": "ipython2",
   "version": "2.7.15"
  }
 },
 "nbformat": 4,
 "nbformat_minor": 2
}
