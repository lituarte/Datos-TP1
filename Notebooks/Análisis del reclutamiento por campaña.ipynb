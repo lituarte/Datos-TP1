{
 "cells": [
  {
   "cell_type": "markdown",
   "metadata": {},
   "source": [
    "## Análisis del reclutamiento por campaña"
   ]
  },
  {
   "cell_type": "code",
   "execution_count": 1,
   "metadata": {},
   "outputs": [],
   "source": [
    "import pandas as pd\n",
    "import matplotlib.pyplot as plt\n",
    "% matplotlib inline\n",
    "import calendar"
   ]
  },
  {
   "cell_type": "code",
   "execution_count": 3,
   "metadata": {},
   "outputs": [],
   "source": [
    "# Cargo las columnas que necesito\n",
    "datos = pd.read_csv('/home/lautaro/Desktop/events.csv',\n",
    "                    usecols = lambda col: col in [\"event\", \"timestamp\", \"new_vs_returning\", \"campaign_source\", \"person\"])"
   ]
  },
  {
   "cell_type": "code",
   "execution_count": 4,
   "metadata": {},
   "outputs": [],
   "source": [
    "# Filtro los eventos que me interesan\n",
    "visitas = datos.loc[datos[\"event\"] == \"visited site\",[\"timestamp\", \"new_vs_returning\", \"person\"]]\n",
    "campania = datos.loc[datos[\"event\"] == \"ad campaign hit\",[\"timestamp\", \"campaign_source\", \"person\"]]"
   ]
  },
  {
   "cell_type": "code",
   "execution_count": 5,
   "metadata": {},
   "outputs": [],
   "source": [
    "visitas = visitas.rename(index=str, columns = {\"timestamp\" : \"hora visita\"})\n",
    "campania = campania.rename(index=str, columns = {\"timestamp\" : \"hora campania\"})"
   ]
  },
  {
   "cell_type": "code",
   "execution_count": 6,
   "metadata": {},
   "outputs": [],
   "source": [
    "# Obtengo las visitas de usuarios nuevos\n",
    "visitas = visitas.loc[visitas[\"new_vs_returning\"] == \"New\",[\"hora visita\", \"person\"]]"
   ]
  },
  {
   "cell_type": "code",
   "execution_count": 7,
   "metadata": {},
   "outputs": [],
   "source": [
    "# Me quedo con la primer fecha de acceso a la pagina de cada usuario ya que el resto de las veces seria un \"Returning\"\n",
    "campania = campania.groupby(\"person\", as_index=False).min()"
   ]
  },
  {
   "cell_type": "code",
   "execution_count": 8,
   "metadata": {},
   "outputs": [],
   "source": [
    "# Matcheamos la hora de la primer visita del usuario al sitio con la hora de su primer click en campaña\n",
    "visitas_por_campania = visitas.merge(campania, how=\"inner\", left_on=\"person\", right_on=\"person\")\n",
    "visitas_por_campania = visitas_por_campania.drop(columns=\"person\")"
   ]
  },
  {
   "cell_type": "code",
   "execution_count": 9,
   "metadata": {},
   "outputs": [],
   "source": [
    "# Convierto las columnas de fechas a datetime para poder operar\n",
    "visitas_por_campania[\"hora visita\"] = pd.to_datetime(visitas_por_campania[\"hora visita\"])\n",
    "visitas_por_campania[\"hora campania\"] = pd.to_datetime(visitas_por_campania[\"hora campania\"])"
   ]
  },
  {
   "cell_type": "code",
   "execution_count": 10,
   "metadata": {},
   "outputs": [],
   "source": [
    "# Para contabilizarlo como nuevo debido a la campaña la diferencia de tiempo entre los eventos debe ser poca\n",
    "# Establezco un límite de 5 segundos de diferencia máxima\n",
    "visitas_por_campania = visitas_por_campania.loc[((visitas_por_campania[\"hora visita\"] - visitas_por_campania[\"hora campania\"]) < pd.Timedelta(\"0 days 00:00:05\")) & \n",
    "                                               ((visitas_por_campania[\"hora visita\"] - visitas_por_campania[\"hora campania\"]) > pd.Timedelta(\"-1 days +23:59:55\")), :]"
   ]
  },
  {
   "cell_type": "raw",
   "metadata": {},
   "source": [
    "Ahora que ya estableci que todos los eventos que tengo son de campañas que resultaron en nuevos clientes puedo quedarme unicamente con el nombre de la campaña y una de las columas que marcan la fecha ya que las dos son equivalentes."
   ]
  },
  {
   "cell_type": "code",
   "execution_count": 11,
   "metadata": {},
   "outputs": [],
   "source": [
    "visitas_por_campania = visitas_por_campania.drop(columns=\"hora visita\")\n",
    "visitas_por_campania[\"cantidad\"] = 1"
   ]
  },
  {
   "cell_type": "code",
   "execution_count": 43,
   "metadata": {},
   "outputs": [],
   "source": [
    "# Puedo analizar como aportan las campañas mes a mes\n",
    "campania_por_mes = visitas_por_campania\n",
    "campania_por_mes[\"mes\"] = campania_por_mes[\"hora campania\"].dt.month\n",
    "campania_por_mes = campania_por_mes.drop(columns=\"hora campania\")"
   ]
  },
  {
   "cell_type": "code",
   "execution_count": 44,
   "metadata": {},
   "outputs": [],
   "source": [
    "campania_por_mes = campania_por_mes.groupby([\"campaign_source\", \"mes\"], as_index=False).sum()\n",
    "campania_por_mes = campania_por_mes.sort_values(by=\"cantidad\", ascending=False)"
   ]
  },
  {
   "cell_type": "code",
   "execution_count": 45,
   "metadata": {},
   "outputs": [
    {
     "name": "stdout",
     "output_type": "stream",
     "text": [
      "   campaign_source  mes  cantidad\n",
      "64          google    5      6400\n",
      "65          google    6      5613\n",
      "49          criteo    5      1787\n",
      "50          criteo    6      1312\n",
      "63          google    4       594\n",
      "62          google    3       360\n",
      "48          criteo    4       307\n",
      "47          criteo    3       215\n",
      "16     FacebookAds    6       169\n",
      "61          google    2       162\n",
      "60          google    1       147\n",
      "46          criteo    2       101\n",
      "36            bing    5        86\n",
      "58          emblue    5        84\n",
      "45          criteo    1        83\n",
      "30          afilio    5        79\n",
      "15     FacebookAds    5        78\n",
      "76        rtbhouse    5        53\n",
      "83           zanox    5        51\n",
      "13     FacebookAds    3        47\n"
     ]
    }
   ],
   "source": [
    "print campania_por_mes.head(20)"
   ]
  },
  {
   "cell_type": "markdown",
   "metadata": {},
   "source": [
    "Podemos observar que Google en el mes de mayo es el que más nuevos usuarios nos trajo, también vemos que en otros meses los valores no son tan altos por lo que sería interesante verlo en un gráfico."
   ]
  },
  {
   "cell_type": "code",
   "execution_count": 47,
   "metadata": {},
   "outputs": [],
   "source": [
    "google_por_mes = campania_por_mes.loc[campania_por_mes[\"campaign_source\"] == \"google\",:]"
   ]
  },
  {
   "cell_type": "code",
   "execution_count": 52,
   "metadata": {},
   "outputs": [
    {
     "data": {
      "text/plain": [
       "Text(0,0.5,'Cantidad de usuarios')"
      ]
     },
     "execution_count": 52,
     "metadata": {},
     "output_type": "execute_result"
    },
    {
     "data": {
      "image/png": "[encoded data removed]",
      "text/plain": [
       "<Figure size 720x720 with 1 Axes>"
      ]
     },
     "metadata": {},
     "output_type": "display_data"
    }
   ],
   "source": [
    "google_por_mes.sort_values(by=\"mes\").plot(rot=0, kind=\"bar\", x=\"mes\", y=\"cantidad\", figsize=(10,10), legend=False, fontsize=12, grid=True)\n",
    "\n",
    "plt.title(\"Nuevos usuarios por Google\")\n",
    "plt.xlabel(\"Mes\")\n",
    "plt.ylabel(\"Cantidad de usuarios\")"
   ]
  },
  {
   "cell_type": "markdown",
   "metadata": {},
   "source": [
    "Podemos observar que en mayo la cantidad de nuevos usuarios que trajo Google aumentó muchísimo, para este gráfico también hay que tener en cuenta que los datos de junio son parciales (solo tenemos la mitad de junio cargada)"
   ]
  },
  {
   "cell_type": "markdown",
   "metadata": {},
   "source": [
    "Otro gráfico que nos resulta interesante es ver el aporte de cada campaña en el mes de mayo. Elegimos el mes de mayo ya que es el último mes que fue cargado completamente."
   ]
  },
  {
   "cell_type": "code",
   "execution_count": 53,
   "metadata": {},
   "outputs": [],
   "source": [
    "mayo = campania_por_mes.loc[campania_por_mes[\"mes\"] == 5,:]"
   ]
  },
  {
   "cell_type": "code",
   "execution_count": 54,
   "metadata": {},
   "outputs": [
    {
     "name": "stdout",
     "output_type": "stream",
     "text": [
      "   campaign_source  mes  cantidad\n",
      "64          google    5      6400\n",
      "49          criteo    5      1787\n",
      "36            bing    5        86\n",
      "58          emblue    5        84\n",
      "30          afilio    5        79\n",
      "15     FacebookAds    5        78\n",
      "76        rtbhouse    5        53\n",
      "83           zanox    5        51\n",
      "9         Facebook    5        18\n",
      "24        afiliado    5         9\n",
      "71     mercadopago    5         6\n",
      "53       datacrush    5         5\n",
      "73         rakuten    5         3\n",
      "78           voxus    5         1\n",
      "4              inf    5         1\n",
      "80           yotpo    5         1\n",
      "69        manifest    5         1\n",
      "40            blog    5         1\n",
      "67          indexa    5         1\n",
      "19  FacebookSocial    5         1\n"
     ]
    }
   ],
   "source": [
    "print mayo"
   ]
  },
  {
   "cell_type": "markdown",
   "metadata": {},
   "source": [
    "Podemos observar a simple vista que la diferencia de usuarios nuevos que obtenemos por Google y Criteo es gigantesca."
   ]
  },
  {
   "cell_type": "code",
   "execution_count": 56,
   "metadata": {},
   "outputs": [
    {
     "data": {
      "text/plain": [
       "Text(0,0.5,'Campania')"
      ]
     },
     "execution_count": 56,
     "metadata": {},
     "output_type": "execute_result"
    },
    {
     "data": {
      "image/png": "[encoded data removed]",
      "text/plain": [
       "<Figure size 720x720 with 1 Axes>"
      ]
     },
     "metadata": {},
     "output_type": "display_data"
    }
   ],
   "source": [
    "mayo.sort_values(by=\"cantidad\").plot(rot=0, kind=\"barh\", x=\"campaign_source\", y=\"cantidad\", figsize=(10,10), legend=False, fontsize=12)\n",
    "\n",
    "plt.title(\"Nuevos usuarios por campania en Enero\")\n",
    "plt.xlabel(\"Cantidad de usuarios\")\n",
    "plt.ylabel(\"Campania\")"
   ]
  },
  {
   "cell_type": "markdown",
   "metadata": {},
   "source": [
    "Basados en estos resultados Trocafone podría, por ejemplo, dejar de abonar por publicidad en las peores campañas."
   ]
  },
  {
   "cell_type": "markdown",
   "metadata": {},
   "source": [
    "Por último podriamos observar cómo es el histórico de usuarios nuevos por campaña."
   ]
  },
  {
   "cell_type": "code",
   "execution_count": 67,
   "metadata": {},
   "outputs": [],
   "source": [
    "campanias_historico = campania_por_mes.drop(columns={\"mes\"})\n",
    "campanias_historico = campanias_historico.groupby(\"campaign_source\", as_index=False).sum().sort_values(by=\"cantidad\", ascending=False)"
   ]
  },
  {
   "cell_type": "code",
   "execution_count": 68,
   "metadata": {},
   "outputs": [
    {
     "name": "stdout",
     "output_type": "stream",
     "text": [
      "   campaign_source  cantidad\n",
      "14          google     13276\n",
      "11          criteo      3805\n",
      "2      FacebookAds       355\n",
      "7           afilio       196\n",
      "13          emblue       178\n",
      "8             bing       169\n",
      "19        rtbhouse       103\n",
      "22           zanox        88\n",
      "10         buscape        38\n",
      "1         Facebook        36\n",
      "6         afiliado        18\n",
      "0              inf        16\n",
      "17     mercadopago        12\n",
      "12       datacrush        10\n",
      "18         rakuten         9\n",
      "9             blog         6\n",
      "15          indexa         4\n",
      "3   FacebookSocial         4\n",
      "20           voxus         3\n",
      "16        manifest         2\n"
     ]
    }
   ],
   "source": [
    "print campanias_historico.head(20)"
   ]
  },
  {
   "cell_type": "markdown",
   "metadata": {},
   "source": [
    "Se mantiene la tendencia que observamos en el mes de mayo, las campañas más provechosas en usuarios son las de Google y Criteo"
   ]
  }
 ],
 "metadata": {
  "kernelspec": {
   "display_name": "Python 2",
   "language": "python",
   "name": "python2"
  },
  "language_info": {
   "codemirror_mode": {
    "name": "ipython",
    "version": 2
   },
   "file_extension": ".py",
   "mimetype": "text/x-python",
   "name": "python",
   "nbconvert_exporter": "python",
   "pygments_lexer": "ipython2",
   "version": "2.7.15"
  }
 },
 "nbformat": 4,
 "nbformat_minor": 2
}
