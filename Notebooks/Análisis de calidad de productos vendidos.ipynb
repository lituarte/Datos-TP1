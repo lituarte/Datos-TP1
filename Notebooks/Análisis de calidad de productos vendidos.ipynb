{
 "cells": [
  {
   "cell_type": "markdown",
   "metadata": {},
   "source": [
    "## Análisis de calidad de productos vendidos"
   ]
  },
  {
   "cell_type": "code",
   "execution_count": null,
   "metadata": {},
   "outputs": [],
   "source": [
    "import pandas as pd\n",
    "\n",
    "# Calidad de ventas\n",
    "\n",
    "# Cargo las columnas que necesito\n",
    "datos = pd.read_csv('events.csv', usecols = lambda col: col in [\"timestamp\", \"event\", \"condition\"])\n",
    "# Filtro por evento para mostrar unicamente las ventas\n",
    "ventas = datos.loc[datos[\"event\"] == \"conversion\", [\"timestamp\", \"condition\"]]\n",
    "# Chequeo cuales son las conditions posibles\n",
    "print(ventas[\"condition\"].drop_duplicates().head(10))\n",
    "print(\"------------------------------------------------------------------\")\n",
    "# De la linea anterior se que las conditions posibles son \"Muito Bom\", \"Bom\", \"Excelente\", \"Bom - Sem Touch ID\" y \"Novo\"\n",
    "# Chequeo cuantos hay de cada condition para descartar posibles casos aislados\n",
    "print(\"Cantidad de productos Muito Bom: \" + len(ventas.loc[ventas[\"condition\"] == \"Muito Bom\",:]))\n",
    "print(\"Cantidad de productos Bom: \" + len(ventas.loc[ventas[\"condition\"] == \"Bom\",:]))\n",
    "print(\"Cantidad de productos Excelente: \" + len(ventas.loc[ventas[\"condition\"] == \"Excelente\",:]))\n",
    "print(\"Cantidad de productos Bom - Sem Touch ID: \" + len(ventas.loc[ventas[\"condition\"] == \"Bom - Sem Touch ID\",:]))\n",
    "print(\"Cantidad de productos Novo: \" + len(ventas.loc[ventas[\"condition\"] == \"Novo\",:]))\n",
    "print(\"------------------------------------------------------------------\")\n",
    "# Falta filtrar los casos aislados\n",
    "# Falta hacer estadistica por mes"
   ]
  }
 ],
 "metadata": {
  "kernelspec": {
   "display_name": "Python 2",
   "language": "python",
   "name": "python2"
  },
  "language_info": {
   "codemirror_mode": {
    "name": "ipython",
    "version": 2
   },
   "file_extension": ".py",
   "mimetype": "text/x-python",
   "name": "python",
   "nbconvert_exporter": "python",
   "pygments_lexer": "ipython2",
   "version": "2.7.15"
  }
 },
 "nbformat": 4,
 "nbformat_minor": 2
}
