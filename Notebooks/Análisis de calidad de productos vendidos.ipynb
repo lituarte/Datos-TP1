{
 "cells": [
  {
   "cell_type": "markdown",
   "metadata": {},
   "source": [
    "## Análisis de calidad de productos vendidos"
   ]
  },
  {
   "cell_type": "code",
   "execution_count": 2,
   "metadata": {},
   "outputs": [],
   "source": [
    "import pandas as pd\n",
    "import matplotlib.pyplot as plt\n",
    "% matplotlib inline"
   ]
  },
  {
   "cell_type": "code",
   "execution_count": 3,
   "metadata": {},
   "outputs": [],
   "source": [
    "# Cargo las columnas que necesito\n",
    "datos = pd.read_csv('/home/lautaro/Desktop/events.csv', usecols = lambda col: col in [\"timestamp\", \"event\", \"condition\"])\n",
    "# Filtro por evento para mostrar unicamente las ventas\n",
    "ventas = datos.loc[datos[\"event\"] == \"conversion\", [\"timestamp\", \"condition\"]]"
   ]
  },
  {
   "cell_type": "code",
   "execution_count": 4,
   "metadata": {},
   "outputs": [],
   "source": [
    "ventas[\"cantidad\"] = 1"
   ]
  },
  {
   "cell_type": "code",
   "execution_count": 5,
   "metadata": {},
   "outputs": [
    {
     "name": "stdout",
     "output_type": "stream",
     "text": [
      "            condition  cantidad\n",
      "0                 Bom       538\n",
      "1  Bom - Sem Touch ID        22\n",
      "2           Excelente       258\n",
      "3           Muito Bom       352\n",
      "4                Novo         2\n"
     ]
    }
   ],
   "source": [
    "print(ventas.groupby(\"condition\", as_index=False).sum())"
   ]
  },
  {
   "cell_type": "raw",
   "metadata": {},
   "source": [
    "De los datos obtenidos hay 2 que resaltan, la bajísima cantidad de ventas de productos con estado \"Bom - Sem Touch ID\" y \"Novo\". Hay varias explicaciones posibles para los mismos\n",
    "1) El sitio ofrece una baja cantidad de productos en esas condiciones\n",
    "2) Los productos en esas condiciones tienen muy poco éxito\n",
    "3) Los productos con esas condiciones fueron cargados erroneamente (El de \"Bom - Sem Touch ID\" por ejemplo parece ser un subtipo de \"Bom\")"
   ]
  },
  {
   "cell_type": "raw",
   "metadata": {},
   "source": [
    "Para confirmar los puntos 1 y 2 necesitariamos datos que no tenemos por lo tanto vamos a tomar la opción 3 como valida y descartar los casos con estas dos condiciones."
   ]
  },
  {
   "cell_type": "code",
   "execution_count": 6,
   "metadata": {},
   "outputs": [],
   "source": [
    "ventas = ventas.loc[ventas[\"condition\"].isin([\"Bom\", \"Muito Bom\", \"Excelente\"]), :]"
   ]
  },
  {
   "cell_type": "code",
   "execution_count": 8,
   "metadata": {},
   "outputs": [],
   "source": [
    "ventas_totales = ventas.loc[:,[\"condition\",\"cantidad\"]]\n",
    "ventas_totales = ventas_totales.groupby(\"condition\",as_index=False).sum()"
   ]
  },
  {
   "cell_type": "code",
   "execution_count": 9,
   "metadata": {},
   "outputs": [
    {
     "name": "stdout",
     "output_type": "stream",
     "text": [
      "   condition  cantidad\n",
      "0        Bom       538\n",
      "1  Excelente       258\n",
      "2  Muito Bom       352\n"
     ]
    }
   ],
   "source": [
    "print ventas_totales"
   ]
  },
  {
   "cell_type": "code",
   "execution_count": 24,
   "metadata": {},
   "outputs": [
    {
     "data": {
      "text/plain": [
       "(-1.25, 1.25, -1.25, 1.25)"
      ]
     },
     "execution_count": 24,
     "metadata": {},
     "output_type": "execute_result"
    },
    {
     "data": {
      "image/png": "[encoded data removed]",
      "text/plain": [
       "<Figure size 720x720 with 1 Axes>"
      ]
     },
     "metadata": {},
     "output_type": "display_data"
    }
   ],
   "source": [
    "ventas_totales.plot(kind=\"pie\",y=\"cantidad\",autopct='%1.1f%%', ax=plt.subplot(121, aspect='equal'),\n",
    " startangle=90, shadow=False, labels=ventas_totales[\"condition\"], legend = False, figsize=(10,10))\n",
    "\n",
    "plt.axis(\"off\")"
   ]
  },
  {
   "cell_type": "markdown",
   "metadata": {},
   "source": [
    "Como podemos observar, a menor \"calidad\" del producto mayores son las ventas. Los motivos pueden ser varios, por ejemplo pueden llegar a preferir comprar el producto completamente nuevo a comprar uno en estado \"excelente\". También hay que tener en cuenta que se trata de un sitio que vende celulares usuarios por lo que la gente que ingresa al sitio esta previamente dispuesta a sacrificar un poco de calidad por un mejor precio."
   ]
  }
 ],
 "metadata": {
  "kernelspec": {
   "display_name": "Python 2",
   "language": "python",
   "name": "python2"
  },
  "language_info": {
   "codemirror_mode": {
    "name": "ipython",
    "version": 2
   },
   "file_extension": ".py",
   "mimetype": "text/x-python",
   "name": "python",
   "nbconvert_exporter": "python",
   "pygments_lexer": "ipython2",
   "version": "2.7.15"
  }
 },
 "nbformat": 4,
 "nbformat_minor": 2
}
