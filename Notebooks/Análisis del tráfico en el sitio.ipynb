{
 "cells": [
  {
   "cell_type": "markdown",
   "metadata": {},
   "source": [
    "## Análisis del tráfico en el sitio"
   ]
  },
  {
   "cell_type": "code",
   "execution_count": 17,
   "metadata": {},
   "outputs": [],
   "source": [
    "import pandas as pd"
   ]
  },
  {
   "cell_type": "code",
   "execution_count": 18,
   "metadata": {},
   "outputs": [],
   "source": [
    "# Cargo solo las columnas que voy a necesitar para calcular el trafico\n",
    "datos = pd.read_csv('/home/lautaro/Desktop/events.csv', usecols = lambda col: col in [\"timestamp\", \"event\"])"
   ]
  },
  {
   "cell_type": "code",
   "execution_count": 42,
   "metadata": {},
   "outputs": [],
   "source": [
    "# Obtengo todas las visitas fitrando por la columna de evento\n",
    "visitas = datos.loc[datos[\"event\"] == \"visited site\", [\"timestamp\"]]\n",
    "# Creo las columnas de \"mes\" y \"cantidad\" para facilitar los calculos\n",
    "visitas[\"timestamp\"] = pd.to_datetime(visitas[\"timestamp\"])\n",
    "visitas[\"mes\"] = visitas[\"timestamp\"].dt.month\n",
    "visitas[\"cantidad\"] = 1\n",
    "visitas = visitas.loc[:,[\"mes\", \"cantidad\"]]"
   ]
  },
  {
   "cell_type": "code",
   "execution_count": 47,
   "metadata": {},
   "outputs": [
    {
     "name": "stdout",
     "output_type": "stream",
     "text": [
      "     cantidad\n",
      "mes          \n",
      "1        2135\n",
      "2        2790\n",
      "3        7247\n",
      "4       12650\n",
      "5       40137\n",
      "6       22419\n"
     ]
    }
   ],
   "source": [
    "visitas = visitas.groupby([\"mes\"]).sum()\n",
    "print(visitas)"
   ]
  },
  {
   "cell_type": "raw",
   "metadata": {},
   "source": [
    "Por el análisis que hicimos de la completitud de los meses en el set de datos sabemos que los datos de junio son parciales (solo esta cargado hasta mitad de mes)"
   ]
  },
  {
   "cell_type": "raw",
   "metadata": {},
   "source": [
    "Podemos observar un incremento en el trafico del sitio web notable por mes"
   ]
  }
 ],
 "metadata": {
  "kernelspec": {
   "display_name": "Python 2",
   "language": "python",
   "name": "python2"
  },
  "language_info": {
   "codemirror_mode": {
    "name": "ipython",
    "version": 2
   },
   "file_extension": ".py",
   "mimetype": "text/x-python",
   "name": "python",
   "nbconvert_exporter": "python",
   "pygments_lexer": "ipython2",
   "version": "2.7.15"
  }
 },
 "nbformat": 4,
 "nbformat_minor": 2
}
