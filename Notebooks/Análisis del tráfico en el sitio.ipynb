{
 "cells": [
  {
   "cell_type": "markdown",
   "metadata": {},
   "source": [
    "## Análisis del tráfico en el sitio"
   ]
  },
  {
   "cell_type": "code",
   "execution_count": 31,
   "metadata": {},
   "outputs": [],
   "source": [
    "import pandas as pd\n",
    "import matplotlib.pyplot as plt\n",
    "% matplotlib inline\n",
    "import calendar"
   ]
  },
  {
   "cell_type": "code",
   "execution_count": 32,
   "metadata": {},
   "outputs": [],
   "source": [
    "# Cargo solo las columnas que voy a necesitar para calcular el trafico\n",
    "datos = pd.read_csv('/home/lautaro/Desktop/events.csv', usecols = lambda col: col in [\"timestamp\", \"event\"])"
   ]
  },
  {
   "cell_type": "code",
   "execution_count": 41,
   "metadata": {},
   "outputs": [],
   "source": [
    "# Obtengo todas las visitas fitrando por la columna de evento\n",
    "visitas = datos.loc[datos[\"event\"] == \"visited site\", [\"timestamp\"]]\n",
    "# Creo las columnas de \"mes\" y \"cantidad\" para facilitar los calculos\n",
    "visitas[\"timestamp\"] = pd.to_datetime(visitas[\"timestamp\"])\n",
    "visitas[\"mes\"] = visitas[\"timestamp\"].dt.month\n",
    "visitas[\"nombre_mes\"] = visitas[\"mes\"].apply(lambda x: calendar.month_abbr[x])\n",
    "visitas[\"cantidad\"] = 1\n",
    "visitas = visitas.loc[:,[\"mes\",\"nombre_mes\", \"cantidad\"]]"
   ]
  },
  {
   "cell_type": "code",
   "execution_count": 42,
   "metadata": {},
   "outputs": [
    {
     "name": "stdout",
     "output_type": "stream",
     "text": [
      "   mes nombre_mes  cantidad\n",
      "0    1        Jan      2135\n",
      "1    2        Feb      2790\n",
      "2    3        Mar      7247\n",
      "3    4        Apr     12650\n",
      "4    5        May     40137\n",
      "5    6        Jun     22419\n"
     ]
    }
   ],
   "source": [
    "visitas = visitas.groupby([\"mes\", \"nombre_mes\"], as_index=False).sum()\n",
    "print(visitas)"
   ]
  },
  {
   "cell_type": "code",
   "execution_count": 45,
   "metadata": {},
   "outputs": [
    {
     "data": {
      "text/plain": [
       "Text(0,0.5,'Cantidad de visitas')"
      ]
     },
     "execution_count": 45,
     "metadata": {},
     "output_type": "execute_result"
    },
    {
     "data": {
      "image/png": "[encoded data removed]",
      "text/plain": [
       "<Figure size 504x504 with 1 Axes>"
      ]
     },
     "metadata": {},
     "output_type": "display_data"
    }
   ],
   "source": [
    "visitas.plot(kind=\"bar\",rot=0, figsize=(7,7), legend=False, x=\"nombre_mes\", y=\"cantidad\")\n",
    "plt.title(\"Cantidad de visitas por mes\")\n",
    "plt.xlabel(\"Mes\")\n",
    "plt.ylabel(\"Cantidad de visitas\")"
   ]
  },
  {
   "cell_type": "raw",
   "metadata": {},
   "source": [
    "Por el análisis que hicimos de la completitud de los meses en el set de datos sabemos que los datos de junio son parciales (solo esta cargado hasta mitad de mes)"
   ]
  },
  {
   "cell_type": "raw",
   "metadata": {},
   "source": [
    "Podemos observar un incremento en el trafico del sitio web notable por mes"
   ]
  }
 ],
 "metadata": {
  "kernelspec": {
   "display_name": "Python 2",
   "language": "python",
   "name": "python2"
  },
  "language_info": {
   "codemirror_mode": {
    "name": "ipython",
    "version": 2
   },
   "file_extension": ".py",
   "mimetype": "text/x-python",
   "name": "python",
   "nbconvert_exporter": "python",
   "pygments_lexer": "ipython2",
   "version": "2.7.15"
  }
 },
 "nbformat": 4,
 "nbformat_minor": 2
}
